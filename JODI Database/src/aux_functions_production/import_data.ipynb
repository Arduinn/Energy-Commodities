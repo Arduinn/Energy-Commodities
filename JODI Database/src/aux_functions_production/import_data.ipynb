{
 "cells": [
  {
   "cell_type": "code",
   "execution_count": 84,
   "metadata": {},
   "outputs": [],
   "source": [
    "import pandas as pd\n",
    "import os\n",
    "\n",
    "from datetime import datetime, timedelta\n"
   ]
  },
  {
   "cell_type": "code",
   "execution_count": 85,
   "metadata": {},
   "outputs": [],
   "source": [
    "class ImportData:\n",
    "    \n",
    "    def __init__(self, filename):\n",
    "        self.filename = filename\n",
    "        self.export_folder = \"../../data/processed/\"\n",
    "    \n",
    "    def import_jodi_data(self, flow_break_filter, energy_product_filter, unit_measure_filter):\n",
    "        directory = \"../../data/raw/\"\n",
    "        file = self.filename\n",
    "        \n",
    "        # Check if files exist in the directory\n",
    "        if not file:\n",
    "            raise FileNotFoundError(f\"No file found in the directory {directory}\")\n",
    "        \n",
    "        # Read the first CSV file\n",
    "        df = pd.read_csv(os.path.join(directory, file))\n",
    "        \n",
    "        # Apply filters (if needed, example usage of filters)\n",
    "        if flow_break_filter:\n",
    "            df = df[df['ENERGY_PRODUCT'] == flow_break_filter]\n",
    "        if energy_product_filter:\n",
    "            df = df[df['FLOW_BREAKDOWN'] == energy_product_filter]\n",
    "        if unit_measure_filter:\n",
    "            df = df[df['UNIT_MEASURE'] == unit_measure_filter]\n",
    "        \n",
    "        # Cleaning Data \n",
    "        df = df.drop(['ENERGY_PRODUCT', 'FLOW_BREAKDOWN', 'UNIT_MEASURE', \"ASSESSMENT_CODE\"], axis=1)\n",
    "        df['TIME_PERIOD'] = pd.to_datetime(df['TIME_PERIOD'], format='%Y-%m') + pd.offsets.MonthEnd(0)\n",
    "        df['OBS_VALUE'] = pd.to_numeric(df[\"OBS_VALUE\"], errors=\"coerce\")\n",
    "        \n",
    "        # Filter the DataFrame for 'TIME_PERIOD' == '2024-12-31' and 'OBS_VALUE' != 0\n",
    "        filtered_ref_area = df[(df['TIME_PERIOD'] == '2024-12-31') & (df['OBS_VALUE'] != 0)]['REF_AREA'].unique()\n",
    "\n",
    "        # Filter the dataset based on filtered_ref_area\n",
    "        df = df[df['REF_AREA'].isin(filtered_ref_area)]\n",
    "\n",
    "        # Generate the filename using the filter values (handle missing filters)\n",
    "        export_filename = f\"{flow_break_filter}_{energy_product_filter}_{unit_measure_filter}.csv\"\n",
    "        filepath = os.path.join(self.export_folder, export_filename)\n",
    "        \n",
    "        # Save the filtered DataFrame to CSV\n",
    "        df.to_csv(filepath, index=False)\n",
    "        \n",
    "        print(\"Data Sucess!!\")"
   ]
  },
  {
   "cell_type": "code",
   "execution_count": 86,
   "metadata": {},
   "outputs": [
    {
     "name": "stdout",
     "output_type": "stream",
     "text": [
      "Data Sucess!!\n",
      "Data Sucess!!\n",
      "Data Sucess!!\n"
     ]
    }
   ],
   "source": [
    "ImportData(\"NewProcedure_Primary_CSV.csv\").import_jodi_data(\"CRUDEOIL\", \"INDPROD\", \"KBD\")\n",
    "ImportData(\"NewProcedure_Primary_CSV.csv\").import_jodi_data(\"CRUDEOIL\", \"CLOSTLV\", \"KBBL\")\n",
    "ImportData(\"NewProcedure_Primary_CSV.csv\").import_jodi_data(\"CRUDEOIL\", \"DIRECUSE\", \"KBBL\")"
   ]
  }
 ],
 "metadata": {
  "kernelspec": {
   "display_name": "datascience",
   "language": "python",
   "name": "python3"
  },
  "language_info": {
   "codemirror_mode": {
    "name": "ipython",
    "version": 3
   },
   "file_extension": ".py",
   "mimetype": "text/x-python",
   "name": "python",
   "nbconvert_exporter": "python",
   "pygments_lexer": "ipython3",
   "version": "3.10.13"
  }
 },
 "nbformat": 4,
 "nbformat_minor": 2
}
