{
 "cells": [
  {
   "cell_type": "code",
   "execution_count": 1,
   "metadata": {},
   "outputs": [],
   "source": [
    "import pandas as pd\n",
    "import os"
   ]
  },
  {
   "cell_type": "code",
   "execution_count": 2,
   "metadata": {},
   "outputs": [],
   "source": [
    "# Cleaning Special Cases\n",
    "\n",
    "# Importing file to Sum Up Values\n",
    "file_folder = \"../../data/processed\"\n",
    "file_name = \"padd4&5_distillates_stocks.csv\"\n",
    "\n",
    "file_path_import = os.path.join(file_folder, file_name)\n",
    "df = pd.read_csv(file_path_import)\n",
    "\n",
    "# Summing up all rows for columns 1 and 2\n",
    "new_df = df.iloc[:, [0]].copy()  # Keep the first column\n",
    "new_df['Value'] = df.iloc[:, [1, 2]].sum(axis=1)  # Sum columns 2 and 3\n",
    "\n",
    "filepath = os.path.join(file_folder, f\"{file_name}\")\n",
    "new_df.to_csv(filepath, index=False)"
   ]
  },
  {
   "cell_type": "code",
   "execution_count": 3,
   "metadata": {},
   "outputs": [],
   "source": [
    "# List all CSV files in the folder\n",
    "csv_files = [f for f in os.listdir(file_folder) if f.endswith('.csv')]\n",
    "\n",
    "# Create an empty DataFrame to merge into\n",
    "df_combined = pd.DataFrame()\n",
    "\n",
    "# Loop through each CSV file and read it\n",
    "for file in csv_files:\n",
    "    file_path = os.path.join(file_folder, file)\n",
    "    df = pd.read_csv(file_path)\n",
    "\n",
    "    # Strip spaces from column names (if any)\n",
    "    df.columns = df.columns.str.strip()\n",
    "\n",
    "    # Convert the first column (Date) to datetime format\n",
    "    df.iloc[:, 0] = pd.to_datetime(df.iloc[:, 0])\n",
    "\n",
    "    # Keep only Date and the relevant data column\n",
    "    data_column = df.columns[1]  # Assuming the second column has the data\n",
    "    df = df.iloc[:, [0, 1]]  # Select only Date and the data column\n",
    "\n",
    "    # Rename the data column based on the filename\n",
    "    df.rename(columns={data_column: file.replace('.csv', '')}, inplace=True)\n",
    "\n",
    "    # Merge with the combined DataFrame using Date as the key\n",
    "    if df_combined.empty:\n",
    "        df_combined = df\n",
    "    else:\n",
    "        df_combined = pd.merge(df_combined, df, on=df.columns[0], how=\"outer\")\n",
    "\n",
    "# Rename the first column to 'Date'\n",
    "df_combined.rename(columns={df_combined.columns[0]: \"Date\"}, inplace=True)\n",
    "\n",
    "# Export file\n",
    "filepath = os.path.join(file_folder, \"summary_table.csv\")\n",
    "df_combined.to_csv(filepath, index=False)"
   ]
  }
 ],
 "metadata": {
  "kernelspec": {
   "display_name": "datascience",
   "language": "python",
   "name": "python3"
  },
  "language_info": {
   "codemirror_mode": {
    "name": "ipython",
    "version": 3
   },
   "file_extension": ".py",
   "mimetype": "text/x-python",
   "name": "python",
   "nbconvert_exporter": "python",
   "pygments_lexer": "ipython3",
   "version": "3.10.13"
  }
 },
 "nbformat": 4,
 "nbformat_minor": 2
}
